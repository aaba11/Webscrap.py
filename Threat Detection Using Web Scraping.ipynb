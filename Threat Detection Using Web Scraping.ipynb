{
 "cells": [
  {
   "cell_type": "code",
   "execution_count": null,
   "metadata": {},
   "outputs": [],
   "source": [
    "#pip install requests\n",
    "#pip install bs4\n",
    "#pip install html5lib"
   ]
  },
  {
   "cell_type": "code",
   "execution_count": null,
   "metadata": {},
   "outputs": [],
   "source": [
    "import requests\n",
    "from bs4 import BeautifulSoup\n",
    "url= \"https://www.amazon.in/\"\n",
    "r=requests.get(url)\n",
    "htmlcontent=r.content\n",
    "print(htmlcontent)"
   ]
  },
  {
   "cell_type": "code",
   "execution_count": null,
   "metadata": {},
   "outputs": [],
   "source": [
    "# step 2 parse the HTML\n",
    "\n",
    "soup = BeautifulSoup(htmlcontent,'html.parser')\n",
    "print(soup)"
   ]
  },
  {
   "cell_type": "code",
   "execution_count": null,
   "metadata": {},
   "outputs": [],
   "source": [
    "print(soup.prettify)"
   ]
  },
  {
   "cell_type": "code",
   "execution_count": null,
   "metadata": {},
   "outputs": [],
   "source": [
    "#3 html tree traversal\n",
    "\n",
    "\n",
    "title = soup.title\n",
    "print(title) # Get the titleof HtMl page\n",
    "print(type(title))# Tag\n",
    "print(type(soup))# Beautifulsoup\n",
    "print(type(title.string))# NavigableString\n",
    "print()"
   ]
  },
  {
   "cell_type": "code",
   "execution_count": null,
   "metadata": {},
   "outputs": [],
   "source": [
    "# get all anchor tags\n",
    "\n",
    "anchors = soup.find_all('a')\n",
    "print(anchors)"
   ]
  },
  {
   "cell_type": "code",
   "execution_count": null,
   "metadata": {},
   "outputs": [],
   "source": [
    "# get all elements with class lead\n",
    "\n",
    "\n",
    "print(soup.find_all(\"p\",class_=\"lead\"))"
   ]
  },
  {
   "cell_type": "code",
   "execution_count": null,
   "metadata": {},
   "outputs": [],
   "source": [
    "# get text from the tags\n",
    "\n",
    "print(soup.get_text())"
   ]
  },
  {
   "cell_type": "code",
   "execution_count": null,
   "metadata": {},
   "outputs": [],
   "source": [
    "# get all links\n",
    "for link in anchors:\n",
    "    print(link.get('href'))"
   ]
  },
  {
   "cell_type": "code",
   "execution_count": null,
   "metadata": {},
   "outputs": [],
   "source": [
    "# comment object \n",
    "\n",
    "markup = \"<p><!-- this is comment--></p>\"\n",
    "soup2=BeautifulSoup(markup)\n",
    "print(soup2.p)\n",
    "print(soup2.p.string)\n",
    "print(type(soup2.p.string))"
   ]
  }
 ],
 "metadata": {
  "kernelspec": {
   "display_name": "Python 3",
   "language": "python",
   "name": "python3"
  },
  "language_info": {
   "codemirror_mode": {
    "name": "ipython",
    "version": 3
   },
   "file_extension": ".py",
   "mimetype": "text/x-python",
   "name": "python",
   "nbconvert_exporter": "python",
   "pygments_lexer": "ipython3",
   "version": "3.7.6"
  }
 },
 "nbformat": 4,
 "nbformat_minor": 4
}
